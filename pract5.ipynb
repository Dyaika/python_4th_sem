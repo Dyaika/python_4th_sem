{
 "cells": [
  {
   "cell_type": "markdown",
   "metadata": {
    "id": "xxnZtYuQNMpd"
   },
   "source": [
    "# 1.1"
   ]
  },
  {
   "cell_type": "code",
   "execution_count": 16,
   "metadata": {
    "colab": {
     "base_uri": "https://localhost:8080/"
    },
    "executionInfo": {
     "elapsed": 2,
     "status": "ok",
     "timestamp": 1683771187225,
     "user": {
      "displayName": "Fakyring",
      "userId": "05990220412689646767"
     },
     "user_tz": -180
    },
    "id": "c3EfU7IdOUZr",
    "outputId": "98474044-5eaf-4c41-e63b-9597f5d1b732"
   },
   "outputs": [
    {
     "data": {
      "text/plain": [
       "TestResults(failed=0, attempted=2)"
      ]
     },
     "execution_count": 16,
     "metadata": {},
     "output_type": "execute_result"
    }
   ],
   "source": [
    "import doctest\n",
    "\n",
    "\n",
    "def distance(x1, y1, x2, y2):\n",
    "    \"\"\"\n",
    "    Вычисляет расстояние между двумя точками на плоскости.\n",
    "\n",
    "    Args:\n",
    "        x1: Координата x первой точки.\n",
    "        y1: Координата y первой точки.\n",
    "        x2: Координата x второй точки.\n",
    "        y2: Координата y второй точки.\n",
    "\n",
    "    Returns:\n",
    "        Расстояние между двумя точками.\n",
    "\n",
    "    Examples:\n",
    "        >>> distance(0, 0, 3, 4)\n",
    "        5.0\n",
    "        >>> distance(0, 0, 0, 0)\n",
    "        0.0\n",
    "    \"\"\"\n",
    "    return ((x2 - x1)**2 + (y2 - y1)**2) ** 0.5\n",
    "\n",
    "doctest.testmod()"
   ]
  },
  {
   "cell_type": "markdown",
   "metadata": {
    "id": "1UWWLGj_NMpd"
   },
   "source": [
    "# 1.2"
   ]
  },
  {
   "cell_type": "code",
   "execution_count": 26,
   "metadata": {
    "executionInfo": {
     "elapsed": 248,
     "status": "ok",
     "timestamp": 1683772147292,
     "user": {
      "displayName": "Fakyring",
      "userId": "05990220412689646767"
     },
     "user_tz": -180
    },
    "id": "mrjN1YEZQqYz"
   },
   "outputs": [],
   "source": [
    "from random import randint\n",
    "\n",
    "\n",
    "def bucketsort(arr, k):\n",
    "    counts = [0] * k\n",
    "    for x in arr:\n",
    "        counts[x] += 1\n",
    "    sorted_arr = []\n",
    "    for i in range(k):\n",
    "        sorted_arr.extend([i] * counts[i])\n",
    "    return sorted_arr\n",
    "\n",
    "\n",
    "assert bucketsort([], 10) == []\n",
    "assert bucketsort([5], 10) == [5]\n",
    "assert bucketsort([1, 1, 1], 10) == [1, 1, 1]\n",
    "assert bucketsort([2, 1, 9], 10) == [1, 2, 9]\n",
    "\n",
    "arr = [randint(1, 100) for i in range(100)]\n",
    "assert bucketsort(arr, 100) == sorted(arr)"
   ]
  },
  {
   "cell_type": "markdown",
   "metadata": {
    "id": "tLaGxIocNMpd"
   },
   "source": [
    "# 1.3"
   ]
  },
  {
   "cell_type": "code",
   "execution_count": 41,
   "metadata": {
    "executionInfo": {
     "elapsed": 279,
     "status": "ok",
     "timestamp": 1683771740835,
     "user": {
      "displayName": "Fakyring",
      "userId": "05990220412689646767"
     },
     "user_tz": -180
    },
    "id": "pozNT0UdTEBX"
   },
   "outputs": [
    {
     "name": "stdout",
     "output_type": "stream",
     "text": [
      "Тест успешно пройден!\n"
     ]
    }
   ],
   "source": [
    "class raises:\n",
    "    def __init__(self, exc_type):\n",
    "        self.exc_type = exc_type\n",
    "        self.exception = None\n",
    "\n",
    "    def __enter__(self):\n",
    "        return self\n",
    "\n",
    "    def __exit__(self, exc_type, exc_val, traceback):\n",
    "        if exc_type == self.exc_type:\n",
    "            self.exception = exc_val\n",
    "            return True  # Перехватываем исключение\n",
    "        return False  # Пропускаем исключение\n",
    "\n",
    "        \n",
    "class MealyError(Exception):\n",
    "    pass\n",
    "\n",
    "\n",
    "with raises(MealyError) as e:\n",
    "    raise MealyError(\"Ошибка произошла!\")\n",
    "\n",
    "# Проверка, что исключение было перехвачено\n",
    "assert isinstance(e.exception, MealyError)\n",
    "print(\"Тест успешно пройден!\")\n"
   ]
  },
  {
   "cell_type": "markdown",
   "metadata": {
    "id": "bg3cqQLYNMpe"
   },
   "source": [
    "# 2.1"
   ]
  },
  {
   "cell_type": "code",
   "execution_count": 54,
   "metadata": {
    "executionInfo": {
     "elapsed": 2,
     "status": "ok",
     "timestamp": 1683772861266,
     "user": {
      "displayName": "Fakyring",
      "userId": "05990220412689646767"
     },
     "user_tz": -180
    },
    "id": "uOUWpJ--VnE1"
   },
   "outputs": [],
   "source": [
    "import pytest\n",
    "\n",
    "def binary_search(arr, x):\n",
    "    left = 0\n",
    "    right = len(arr) \n",
    "    while left < right:\n",
    "        mid = round((left + right) / 2)\n",
    "        if arr[mid] == x:\n",
    "            return mid\n",
    "        if arr[mid] < x:\n",
    "            left = mid + 1\n",
    "        else:\n",
    "            right = mid           \n",
    "    return -1\n",
    "\n",
    "@pytest.fixture\n",
    "def arr():\n",
    "    return [1, 2, 3, 4, 5, 6, 7, 8, 9]\n",
    "\n",
    "\n",
    "def test_binary_search_found(arr):\n",
    "    assert binary_search(arr, 5) == 4\n",
    "\n",
    "\n",
    "def test_binary_search_not_found(arr):\n",
    "    assert binary_search(arr, 10) == -1\n",
    "\n",
    "\n",
    "@pytest.mark.parametrize(\"x,result\", [\n",
    "    (1, 0),\n",
    "    (5, 4),\n",
    "    (9, 8),\n",
    "    (10, -1)\n",
    "])\n",
    "\n",
    "\n",
    "def test_binary_search_parametrized(arr, x, result):\n",
    "    assert binary_search(arr, x) == result"
   ]
  },
  {
   "cell_type": "markdown",
   "metadata": {
    "id": "itc59SgINMpe"
   },
   "source": [
    "# 2.2"
   ]
  },
  {
   "cell_type": "code",
   "execution_count": 51,
   "metadata": {
    "colab": {
     "base_uri": "https://localhost:8080/"
    },
    "executionInfo": {
     "elapsed": 2182,
     "status": "ok",
     "timestamp": 1683772635137,
     "user": {
      "displayName": "Fakyring",
      "userId": "05990220412689646767"
     },
     "user_tz": -180
    },
    "id": "J4HpS6lqV_mO",
    "outputId": "d007c5fa-156b-4e80-dbdb-3690d16ead6c"
   },
   "outputs": [
    {
     "name": "stdout",
     "output_type": "stream",
     "text": [
      "Введите элементы массива через пробел: 1 4 3 2\n",
      "Введите k: 5\n",
      "Тест успешно пройден!\n"
     ]
    }
   ],
   "source": [
    "def bucketsort(arr, k):\n",
    "    counts = [0] * k\n",
    "    for x in arr:\n",
    "        counts[x] += 1\n",
    "\n",
    "    sorted_arr = []\n",
    "    for i in range(k):\n",
    "        sorted_arr.extend([i] * counts[i])\n",
    "\n",
    "    return sorted_arr\n",
    "\n",
    "def test_bucketsort():\n",
    "    # Тестирование с использованием пользовательского ввода\n",
    "    arr = input(\"Введите элементы массива через пробел: \").split()\n",
    "    arr = [int(x) for x in arr]\n",
    "    k = int(input(\"Введите k: \"))\n",
    "\n",
    "    sorted_arr = bucketsort(arr, k)\n",
    "\n",
    "    # Проверка, что массив отсортирован\n",
    "    assert sorted_arr == sorted(arr)\n",
    "\n",
    "    print(\"Тест успешно пройден!\")\n",
    "\n",
    "\n",
    "test_bucketsort()\n"
   ]
  },
  {
   "cell_type": "markdown",
   "metadata": {
    "id": "Mv8E1_kTNMpf"
   },
   "source": [
    "# 4.1"
   ]
  },
  {
   "cell_type": "code",
   "execution_count": 53,
   "metadata": {
    "colab": {
     "base_uri": "https://localhost:8080/"
    },
    "executionInfo": {
     "elapsed": 282,
     "status": "ok",
     "timestamp": 1683773442019,
     "user": {
      "displayName": "Fakyring",
      "userId": "05990220412689646767"
     },
     "user_tz": -180
    },
    "id": "8g9ukQ76b9At",
    "outputId": "ce82c6e6-a9c3-489a-b095-49a55e2b67c8"
   },
   "outputs": [
    {
     "ename": "ModuleNotFoundError",
     "evalue": "No module named 'deal'",
     "output_type": "error",
     "traceback": [
      "\u001b[1;31m---------------------------------------------------------------------------\u001b[0m",
      "\u001b[1;31mModuleNotFoundError\u001b[0m                       Traceback (most recent call last)",
      "\u001b[1;32m~\\AppData\\Local\\Temp\\ipykernel_11928\\884491196.py\u001b[0m in \u001b[0;36m<module>\u001b[1;34m\u001b[0m\n\u001b[0;32m      1\u001b[0m \u001b[1;31m# в отдельном файле\u001b[0m\u001b[1;33m\u001b[0m\u001b[1;33m\u001b[0m\u001b[0m\n\u001b[1;32m----> 2\u001b[1;33m \u001b[1;32mfrom\u001b[0m \u001b[0mdeal\u001b[0m \u001b[1;32mimport\u001b[0m \u001b[0mpre\u001b[0m\u001b[1;33m,\u001b[0m \u001b[0mpost\u001b[0m\u001b[1;33m,\u001b[0m \u001b[0mensure\u001b[0m\u001b[1;33m,\u001b[0m \u001b[0mraises\u001b[0m\u001b[1;33m,\u001b[0m \u001b[0mreason\u001b[0m\u001b[1;33m,\u001b[0m \u001b[0mhas\u001b[0m\u001b[1;33m\u001b[0m\u001b[1;33m\u001b[0m\u001b[0m\n\u001b[0m\u001b[0;32m      3\u001b[0m \u001b[1;32mimport\u001b[0m \u001b[0mpytest\u001b[0m\u001b[1;33m\u001b[0m\u001b[1;33m\u001b[0m\u001b[0m\n\u001b[0;32m      4\u001b[0m \u001b[1;33m\u001b[0m\u001b[0m\n\u001b[0;32m      5\u001b[0m \u001b[1;33m\u001b[0m\u001b[0m\n",
      "\u001b[1;31mModuleNotFoundError\u001b[0m: No module named 'deal'"
     ]
    }
   ],
   "source": [
    "# в отдельном файле\n",
    "from deal import pre, post, ensure, raises, reason, has\n",
    "import pytest\n",
    "\n",
    "\n",
    "@pre(lambda a, b: b != 0)\n",
    "@post(lambda result: result * b == a)\n",
    "@raises(ZeroDivisionError)\n",
    "@reason(ZeroDivisionError, lambda a, b: b != 0)\n",
    "@ensure(lambda a, b, result: isinstance(result, float))\n",
    "@has('stdout')\n",
    "def divide(a, b):\n",
    "    print(\"a and b\")\n",
    "    return a / b\n",
    "\n",
    "\n",
    "a = 20\n",
    "b = 10\n",
    "print(divide(a, b))"
   ]
  },
  {
   "cell_type": "markdown",
   "metadata": {
    "id": "Azk28lE7NMpf"
   },
   "source": [
    "# 4.2"
   ]
  },
  {
   "cell_type": "code",
   "execution_count": 49,
   "metadata": {
    "executionInfo": {
     "elapsed": 251,
     "status": "ok",
     "timestamp": 1683773873279,
     "user": {
      "displayName": "Fakyring",
      "userId": "05990220412689646767"
     },
     "user_tz": -180
    },
    "id": "6H8w4dQBcNp1"
   },
   "outputs": [
    {
     "ename": "ModuleNotFoundError",
     "evalue": "No module named 'deal'",
     "output_type": "error",
     "traceback": [
      "\u001b[1;31m---------------------------------------------------------------------------\u001b[0m",
      "\u001b[1;31mModuleNotFoundError\u001b[0m                       Traceback (most recent call last)",
      "\u001b[1;32m~\\AppData\\Local\\Temp\\ipykernel_11928\\1165670451.py\u001b[0m in \u001b[0;36m<module>\u001b[1;34m\u001b[0m\n\u001b[0;32m      1\u001b[0m \u001b[1;31m#!pip install deal\u001b[0m\u001b[1;33m\u001b[0m\u001b[1;33m\u001b[0m\u001b[0m\n\u001b[0;32m      2\u001b[0m \u001b[1;31m# в отдельном файле\u001b[0m\u001b[1;33m\u001b[0m\u001b[1;33m\u001b[0m\u001b[0m\n\u001b[1;32m----> 3\u001b[1;33m \u001b[1;32mimport\u001b[0m \u001b[0mdeal\u001b[0m\u001b[1;33m\u001b[0m\u001b[1;33m\u001b[0m\u001b[0m\n\u001b[0m\u001b[0;32m      4\u001b[0m \u001b[1;33m\u001b[0m\u001b[0m\n\u001b[0;32m      5\u001b[0m \u001b[1;33m@\u001b[0m\u001b[0mdeal\u001b[0m\u001b[1;33m.\u001b[0m\u001b[0minv\u001b[0m\u001b[1;33m(\u001b[0m\u001b[1;32mlambda\u001b[0m \u001b[0mself\u001b[0m\u001b[1;33m:\u001b[0m \u001b[0mself\u001b[0m\u001b[1;33m.\u001b[0m\u001b[0mbalance\u001b[0m \u001b[1;33m>=\u001b[0m \u001b[1;36m0\u001b[0m\u001b[1;33m)\u001b[0m\u001b[1;33m\u001b[0m\u001b[1;33m\u001b[0m\u001b[0m\n",
      "\u001b[1;31mModuleNotFoundError\u001b[0m: No module named 'deal'"
     ]
    }
   ],
   "source": [
    "#!pip install deal\n",
    "# в отдельном файле\n",
    "import deal\n",
    "\n",
    "@deal.inv(lambda self: self.balance >= 0)\n",
    "class BankAccount:\n",
    "    def __init__(self, balance: float):\n",
    "        self.balance = balance\n",
    "        \n",
    "    def deposit(self, amount: float):\n",
    "        self.balance += amount\n",
    "        \n",
    "    @deal.pre(lambda self, amount: amount <= self.balance)\n",
    "    def withdraw(self, amount: float):\n",
    "        self.balance -= amount\n",
    "        \n",
    "    def get_balance(self):\n",
    "        return self.balance\n",
    "\n",
    "#ba = BankAccount(-10)\n",
    "ba = BankAccount(10)\n",
    "#ba.withdraw(100)"
   ]
  },
  {
   "cell_type": "markdown",
   "metadata": {
    "id": "H3fNMWeyNMpg"
   },
   "source": [
    "# 5.1"
   ]
  },
  {
   "cell_type": "code",
   "execution_count": 55,
   "metadata": {
    "executionInfo": {
     "elapsed": 247,
     "status": "ok",
     "timestamp": 1683773259756,
     "user": {
      "displayName": "Fakyring",
      "userId": "05990220412689646767"
     },
     "user_tz": -180
    },
    "id": "Ly78w-CNdf6r"
   },
   "outputs": [
    {
     "ename": "ModuleNotFoundError",
     "evalue": "No module named 'hypothesis'",
     "output_type": "error",
     "traceback": [
      "\u001b[1;31m---------------------------------------------------------------------------\u001b[0m",
      "\u001b[1;31mModuleNotFoundError\u001b[0m                       Traceback (most recent call last)",
      "\u001b[1;32m~\\AppData\\Local\\Temp\\ipykernel_11928\\1803725523.py\u001b[0m in \u001b[0;36m<module>\u001b[1;34m\u001b[0m\n\u001b[0;32m      1\u001b[0m \u001b[1;31m#!pip install hypothesis\u001b[0m\u001b[1;33m\u001b[0m\u001b[1;33m\u001b[0m\u001b[0m\n\u001b[0;32m      2\u001b[0m \u001b[1;33m\u001b[0m\u001b[0m\n\u001b[1;32m----> 3\u001b[1;33m \u001b[1;32mfrom\u001b[0m \u001b[0mhypothesis\u001b[0m \u001b[1;32mimport\u001b[0m \u001b[0mgiven\u001b[0m\u001b[1;33m\u001b[0m\u001b[1;33m\u001b[0m\u001b[0m\n\u001b[0m\u001b[0;32m      4\u001b[0m \u001b[1;32mimport\u001b[0m \u001b[0mmath\u001b[0m\u001b[1;33m\u001b[0m\u001b[1;33m\u001b[0m\u001b[0m\n\u001b[0;32m      5\u001b[0m \u001b[1;33m\u001b[0m\u001b[0m\n",
      "\u001b[1;31mModuleNotFoundError\u001b[0m: No module named 'hypothesis'"
     ]
    }
   ],
   "source": [
    "#!pip install hypothesis\n",
    "# в файле\n",
    "from hypothesis import given, strategies as st\n",
    "import math\n",
    "\n",
    "\n",
    "def distance(x1, y1, x2, y2):\n",
    "    return math.sqrt((x2 - x1)**2 + (y2 - y1)**2)\n",
    "\n",
    "@given(x1=st.floats(min_value=-1000, max_value=1000),\n",
    "       y1=st.floats(min_value=-1000, max_value=1000),\n",
    "       x2=st.floats(min_value=-1000, max_value=1000),\n",
    "       y2=st.floats(min_value=-1000, max_value=1000))\n",
    "def test_distance(x1, y1, x2, y2):\n",
    "    assert distance(x1, y1, x2, y2) >= 0"
   ]
  },
  {
   "cell_type": "markdown",
   "metadata": {
    "id": "_OCMcu1JNMpg"
   },
   "source": [
    "# 5.4"
   ]
  },
  {
   "cell_type": "code",
   "execution_count": null,
   "metadata": {
    "colab": {
     "base_uri": "https://localhost:8080/"
    },
    "executionInfo": {
     "elapsed": 290,
     "status": "ok",
     "timestamp": 1683774339651,
     "user": {
      "displayName": "Fakyring",
      "userId": "05990220412689646767"
     },
     "user_tz": -180
    },
    "id": "G7h1Kf9BeqTH",
    "outputId": "3e132533-3a8d-4500-a061-217abbe72bb1"
   },
   "outputs": [],
   "source": [
    "#!pip install deal \n",
    "#в файле\n",
    "import unittest\n",
    "import deal\n",
    "\n",
    "class BankAccount:\n",
    "    def __init__(self, balance: float):\n",
    "        self.balance = balance\n",
    "\n",
    "    def deposit(self, amount: float):\n",
    "        self.balance += amount\n",
    "\n",
    "    @deal.pre(lambda self, amount: amount <= self.balance)\n",
    "    def withdraw(self, amount: float):\n",
    "        self.balance -= amount\n",
    "\n",
    "    def get_balance(self):\n",
    "        return self.balance\n",
    "\n",
    "\n",
    "class TestBankAccount(unittest.TestCase):\n",
    "    def setUp(self):\n",
    "        self.account = BankAccount(1000)\n",
    "\n",
    "    def test_deposit(self):\n",
    "        self.account.deposit(500)\n",
    "        self.assertEqual(self.account.get_balance(), 1500)\n",
    "\n",
    "    def test_withdraw(self):\n",
    "        self.account.withdraw(300)\n",
    "        self.assertEqual(self.account.get_balance(), 700)\n",
    "\n",
    "    def test_transfer_to(self):\n",
    "        recipient_account = BankAccount(500)\n",
    "        self.account.deposit(500)\n",
    "        self.assertEqual(self.account.get_balance(), 1500)\n",
    "        self.assertEqual(recipient_account.get_balance(), 500)\n",
    "\n",
    "    def test_transfer_from(self):\n",
    "        sender_account = BankAccount(500)\n",
    "        sender_account.deposit(250)\n",
    "        self.assertEqual(sender_account.get_balance(), 750)\n",
    "        self.assertEqual(self.account.get_balance(), 1000)\n",
    "\n",
    "\n",
    "if __name__ == '__main__':\n",
    "    unittest.main(argv=['first-arg-is-ignored'], exit=False)"
   ]
  }
 ],
 "metadata": {
  "colab": {
   "provenance": [
    {
     "file_id": "1zx7Lt6N9v6VIERCzjhqMZnoVkOI9wtxy",
     "timestamp": 1683239386166
    },
    {
     "file_id": "https://github.com/true-grue/kispython/blob/main/pract5.ipynb",
     "timestamp": 1681583834264
    }
   ]
  },
  "kernelspec": {
   "display_name": "Python 3 (ipykernel)",
   "language": "python",
   "name": "python3"
  },
  "language_info": {
   "codemirror_mode": {
    "name": "ipython",
    "version": 3
   },
   "file_extension": ".py",
   "mimetype": "text/x-python",
   "name": "python",
   "nbconvert_exporter": "python",
   "pygments_lexer": "ipython3",
   "version": "3.9.13"
  }
 },
 "nbformat": 4,
 "nbformat_minor": 1
}
