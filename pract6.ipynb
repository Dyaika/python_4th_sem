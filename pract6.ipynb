{
 "cells": [
  {
   "cell_type": "markdown",
   "id": "99baece6",
   "metadata": {},
   "source": [
    "# 1.1"
   ]
  },
  {
   "cell_type": "code",
   "execution_count": 15,
   "id": "7f376396",
   "metadata": {},
   "outputs": [
    {
     "name": "stdout",
     "output_type": "stream",
     "text": [
      "75.00001501625775\n"
     ]
    }
   ],
   "source": [
    "def deriv(f, h=1e-6):\n",
    "    def func(x):\n",
    "        return (f(x + h) - f(x)) / h\n",
    "\n",
    "    return func\n",
    "\n",
    "result = deriv(lambda x: x ** 3)(5)\n",
    "print(result)\n"
   ]
  },
  {
   "cell_type": "markdown",
   "id": "95e86554",
   "metadata": {},
   "source": [
    "# 1.3"
   ]
  },
  {
   "cell_type": "code",
   "execution_count": 16,
   "id": "09e259b6",
   "metadata": {},
   "outputs": [
    {
     "name": "stdout",
     "output_type": "stream",
     "text": [
      "120\n",
      "120\n"
     ]
    }
   ],
   "source": [
    "factorial = (lambda f: (lambda x: f(f, x)))(lambda f, x: 1 if x == 0 else x * f(f, x - 1))\n",
    "\n",
    "print(factorial(5))\n",
    "print((lambda f: (lambda x: f(f, x)))(lambda f, x: 1 if x == 0 else x * f(f, x - 1))(5))"
   ]
  },
  {
   "cell_type": "markdown",
   "id": "906f5c2c",
   "metadata": {},
   "source": [
    "# 1.5"
   ]
  },
  {
   "cell_type": "code",
   "execution_count": 17,
   "id": "7b546868",
   "metadata": {},
   "outputs": [
    {
     "ename": "RecursionError",
     "evalue": "maximum recursion depth exceeded",
     "output_type": "error",
     "traceback": [
      "\u001b[1;31m---------------------------------------------------------------------------\u001b[0m",
      "\u001b[1;31mRecursionError\u001b[0m                            Traceback (most recent call last)",
      "\u001b[1;32m~\\AppData\\Local\\Temp\\ipykernel_11632\\1507408584.py\u001b[0m in \u001b[0;36m<module>\u001b[1;34m\u001b[0m\n\u001b[0;32m     16\u001b[0m     \u001b[1;32mpass\u001b[0m\u001b[1;33m\u001b[0m\u001b[1;33m\u001b[0m\u001b[0m\n\u001b[0;32m     17\u001b[0m \u001b[1;33m\u001b[0m\u001b[0m\n\u001b[1;32m---> 18\u001b[1;33m \u001b[0ma\u001b[0m \u001b[1;33m=\u001b[0m \u001b[0mC1\u001b[0m\u001b[1;33m(\u001b[0m\u001b[1;33m)\u001b[0m\u001b[1;33m\u001b[0m\u001b[1;33m\u001b[0m\u001b[0m\n\u001b[0m\u001b[0;32m     19\u001b[0m \u001b[0mb\u001b[0m \u001b[1;33m=\u001b[0m \u001b[0mC1\u001b[0m\u001b[1;33m(\u001b[0m\u001b[1;33m)\u001b[0m\u001b[1;33m\u001b[0m\u001b[1;33m\u001b[0m\u001b[0m\n\u001b[0;32m     20\u001b[0m \u001b[0mc\u001b[0m \u001b[1;33m=\u001b[0m \u001b[0mC1\u001b[0m\u001b[1;33m(\u001b[0m\u001b[1;33m)\u001b[0m\u001b[1;33m\u001b[0m\u001b[1;33m\u001b[0m\u001b[0m\n",
      "\u001b[1;32m~\\AppData\\Local\\Temp\\ipykernel_11632\\1507408584.py\u001b[0m in \u001b[0;36mwrapper\u001b[1;34m(*args, **kwargs)\u001b[0m\n\u001b[0;32m      3\u001b[0m \u001b[1;33m\u001b[0m\u001b[0m\n\u001b[0;32m      4\u001b[0m     \u001b[1;32mdef\u001b[0m \u001b[0mwrapper\u001b[0m\u001b[1;33m(\u001b[0m\u001b[1;33m*\u001b[0m\u001b[0margs\u001b[0m\u001b[1;33m,\u001b[0m \u001b[1;33m**\u001b[0m\u001b[0mkwargs\u001b[0m\u001b[1;33m)\u001b[0m\u001b[1;33m:\u001b[0m\u001b[1;33m\u001b[0m\u001b[1;33m\u001b[0m\u001b[0m\n\u001b[1;32m----> 5\u001b[1;33m         \u001b[0mobj\u001b[0m \u001b[1;33m=\u001b[0m \u001b[0mcls\u001b[0m\u001b[1;33m(\u001b[0m\u001b[1;33m*\u001b[0m\u001b[0margs\u001b[0m\u001b[1;33m,\u001b[0m \u001b[1;33m**\u001b[0m\u001b[0mkwargs\u001b[0m\u001b[1;33m)\u001b[0m\u001b[1;33m\u001b[0m\u001b[1;33m\u001b[0m\u001b[0m\n\u001b[0m\u001b[0;32m      6\u001b[0m         \u001b[0mcls\u001b[0m\u001b[1;33m.\u001b[0m\u001b[0m_objects\u001b[0m\u001b[1;33m.\u001b[0m\u001b[0mappend\u001b[0m\u001b[1;33m(\u001b[0m\u001b[0mobj\u001b[0m\u001b[1;33m)\u001b[0m\u001b[1;33m\u001b[0m\u001b[1;33m\u001b[0m\u001b[0m\n\u001b[0;32m      7\u001b[0m         \u001b[1;32mreturn\u001b[0m \u001b[0mobj\u001b[0m\u001b[1;33m\u001b[0m\u001b[1;33m\u001b[0m\u001b[0m\n",
      "... last 1 frames repeated, from the frame below ...\n",
      "\u001b[1;32m~\\AppData\\Local\\Temp\\ipykernel_11632\\1507408584.py\u001b[0m in \u001b[0;36mwrapper\u001b[1;34m(*args, **kwargs)\u001b[0m\n\u001b[0;32m      3\u001b[0m \u001b[1;33m\u001b[0m\u001b[0m\n\u001b[0;32m      4\u001b[0m     \u001b[1;32mdef\u001b[0m \u001b[0mwrapper\u001b[0m\u001b[1;33m(\u001b[0m\u001b[1;33m*\u001b[0m\u001b[0margs\u001b[0m\u001b[1;33m,\u001b[0m \u001b[1;33m**\u001b[0m\u001b[0mkwargs\u001b[0m\u001b[1;33m)\u001b[0m\u001b[1;33m:\u001b[0m\u001b[1;33m\u001b[0m\u001b[1;33m\u001b[0m\u001b[0m\n\u001b[1;32m----> 5\u001b[1;33m         \u001b[0mobj\u001b[0m \u001b[1;33m=\u001b[0m \u001b[0mcls\u001b[0m\u001b[1;33m(\u001b[0m\u001b[1;33m*\u001b[0m\u001b[0margs\u001b[0m\u001b[1;33m,\u001b[0m \u001b[1;33m**\u001b[0m\u001b[0mkwargs\u001b[0m\u001b[1;33m)\u001b[0m\u001b[1;33m\u001b[0m\u001b[1;33m\u001b[0m\u001b[0m\n\u001b[0m\u001b[0;32m      6\u001b[0m         \u001b[0mcls\u001b[0m\u001b[1;33m.\u001b[0m\u001b[0m_objects\u001b[0m\u001b[1;33m.\u001b[0m\u001b[0mappend\u001b[0m\u001b[1;33m(\u001b[0m\u001b[0mobj\u001b[0m\u001b[1;33m)\u001b[0m\u001b[1;33m\u001b[0m\u001b[1;33m\u001b[0m\u001b[0m\n\u001b[0;32m      7\u001b[0m         \u001b[1;32mreturn\u001b[0m \u001b[0mobj\u001b[0m\u001b[1;33m\u001b[0m\u001b[1;33m\u001b[0m\u001b[0m\n",
      "\u001b[1;31mRecursionError\u001b[0m: maximum recursion depth exceeded"
     ]
    }
   ],
   "source": [
    "def collect(cls):\n",
    "    cls._objects = []\n",
    "\n",
    "    def wrapper(*args, **kwargs):\n",
    "        obj = cls(*args, **kwargs)\n",
    "        cls._objects.append(obj)\n",
    "        return obj\n",
    "\n",
    "    cls.get_objects = lambda: cls._objects\n",
    "    cls.__init__ = wrapper\n",
    "    return cls\n",
    "\n",
    "\n",
    "@collect\n",
    "class C1:\n",
    "    pass\n",
    "\n",
    "a = C1()\n",
    "b = C1()\n",
    "c = C1()\n",
    "\n",
    "print(C1.get_objects())\n"
   ]
  },
  {
   "cell_type": "markdown",
   "id": "d5632ad8",
   "metadata": {},
   "source": [
    "# 2.1"
   ]
  },
  {
   "cell_type": "code",
   "execution_count": 35,
   "id": "3b87b8a3",
   "metadata": {},
   "outputs": [],
   "source": [
    "def pair(head, tail):\n",
    "    return (lambda h: lambda t: lambda f: f(h)(t))(head)(tail)\n",
    " \n",
    "def head(lst):\n",
    "    return lst(lambda h: lambda t: h)\n",
    " \n",
    "def tail(lst):\n",
    "    return lst(lambda h: lambda t: t)"
   ]
  },
  {
   "cell_type": "markdown",
   "id": "c08dd7fa",
   "metadata": {},
   "source": [
    "# 2.2"
   ]
  },
  {
   "cell_type": "code",
   "execution_count": 36,
   "id": "455de9a6",
   "metadata": {},
   "outputs": [],
   "source": [
    "def make_list(*args):\n",
    "    if not args:\n",
    "        return None\n",
    "    head, *tail = args\n",
    "    return pair(head, make_list(*tail))\n",
    "\n",
    "\n",
    "lst = make_list(1, 2, 3, 4, 5)"
   ]
  },
  {
   "cell_type": "markdown",
   "id": "303c86c6",
   "metadata": {},
   "source": [
    "# 2.3"
   ]
  },
  {
   "cell_type": "code",
   "execution_count": 37,
   "id": "3896feae",
   "metadata": {},
   "outputs": [
    {
     "name": "stdout",
     "output_type": "stream",
     "text": [
      "1 2 3 4 5 \n"
     ]
    }
   ],
   "source": [
    "def list_to_string(lst):\n",
    "    if not lst:\n",
    "        return \"\"\n",
    "    return str(head(lst)) + \" \" + list_to_string(tail(lst))\n",
    "\n",
    "print(list_to_string(lst))"
   ]
  },
  {
   "cell_type": "markdown",
   "id": "ecacccff",
   "metadata": {},
   "source": [
    "# 2.4"
   ]
  },
  {
   "cell_type": "code",
   "execution_count": 38,
   "id": "1e57b6b8",
   "metadata": {},
   "outputs": [
    {
     "name": "stdout",
     "output_type": "stream",
     "text": [
      "6 7 8 9 10 \n"
     ]
    }
   ],
   "source": [
    "def list_range(low, high):\n",
    "    return make_list(*range(low, high + 1))\n",
    "\n",
    "print(list_to_string(list_range(6, 10)))"
   ]
  },
  {
   "cell_type": "markdown",
   "id": "6c9abc07",
   "metadata": {},
   "source": [
    "# 2.5"
   ]
  },
  {
   "cell_type": "code",
   "execution_count": 43,
   "id": "36710cbd",
   "metadata": {},
   "outputs": [
    {
     "name": "stdout",
     "output_type": "stream",
     "text": [
      "15\n"
     ]
    }
   ],
   "source": [
    "def foldl(func, lst, acc):\n",
    "    if not lst:\n",
    "        return acc\n",
    "    return foldl(func, tail(lst), func(acc, head(lst)))\n",
    "\n",
    "print(foldl(lambda acc, x: acc + x, lst, 0)) "
   ]
  },
  {
   "cell_type": "markdown",
   "id": "6b41aa89",
   "metadata": {},
   "source": [
    "# 2.6"
   ]
  },
  {
   "cell_type": "code",
   "execution_count": 40,
   "id": "a62906ce",
   "metadata": {},
   "outputs": [
    {
     "name": "stdout",
     "output_type": "stream",
     "text": [
      "15\n"
     ]
    }
   ],
   "source": [
    "def list_sum(lst):\n",
    "    return foldl(lambda acc, x: acc + x, lst, 0)\n",
    "\n",
    "print(list_sum(lst))"
   ]
  },
  {
   "cell_type": "markdown",
   "id": "5e079b51",
   "metadata": {},
   "source": [
    "# 2.7"
   ]
  },
  {
   "cell_type": "code",
   "execution_count": 44,
   "id": "f0e547b7",
   "metadata": {},
   "outputs": [
    {
     "name": "stdout",
     "output_type": "stream",
     "text": [
      "120\n"
     ]
    }
   ],
   "source": [
    "def fact(n):\n",
    "    return foldl(lambda acc, x: acc * x, list_range(1, n), 1)\n",
    "\n",
    "print(fact(5))"
   ]
  },
  {
   "cell_type": "markdown",
   "id": "49440a2d",
   "metadata": {},
   "source": [
    "# 2.8"
   ]
  },
  {
   "cell_type": "code",
   "execution_count": 45,
   "id": "4bd6fd41",
   "metadata": {},
   "outputs": [
    {
     "name": "stdout",
     "output_type": "stream",
     "text": [
      "[1, 2, 3, 4, 5]\n"
     ]
    }
   ],
   "source": [
    "def list_to_py(lst):\n",
    "    return foldl(lambda acc, x: acc + [x], lst, [])\n",
    "\n",
    "print(list_to_py(lst))"
   ]
  },
  {
   "cell_type": "markdown",
   "id": "a07f8c2a",
   "metadata": {},
   "source": [
    "# 2.9"
   ]
  },
  {
   "cell_type": "code",
   "execution_count": 46,
   "id": "bc9a447e",
   "metadata": {},
   "outputs": [
    {
     "name": "stdout",
     "output_type": "stream",
     "text": [
      "5 4 3 2 1 \n"
     ]
    }
   ],
   "source": [
    "def list_reverse(lst):\n",
    "    return foldl(lambda acc, x: pair(x, acc), lst, None)\n",
    "\n",
    "print(list_to_string(list_reverse(lst)))"
   ]
  },
  {
   "cell_type": "code",
   "execution_count": 23,
   "id": "2d89bb20",
   "metadata": {},
   "outputs": [
    {
     "name": "stdout",
     "output_type": "stream",
     "text": [
      "Созданный список: 1 2 3 4 5 \n",
      "Голова: 1 ; Хвост: 2 3 4 5 \n",
      "Список от low до high: 6 7 8 9 10 \n",
      "Свертка списка: -15\n",
      "Сумма элементов: 15\n",
      "Факториал 5: 120\n",
      "Преобразование в список Python: [1, 2, 3, 4, 5]\n",
      "Разворот списка: 5 4 3 2 1 \n",
      "Свертка списка справа: 3\n",
      "Map списка: 1 4 9 16 25 \n",
      "Фильтрация списка: 2 3 4 \n",
      "Сумма квадратов нечетных чисел: 35\n",
      "Конкатинация списков: 1 2 3 4 5 6 7 8 9 10 \n",
      "Изменение элемента по индексу: 1 2 10 4 5 \n"
     ]
    }
   ],
   "source": [
    " \n",
    "# 2.10. (уровень сложности: средний)\n",
    "# Создайте функцию foldr(func, lst, acc), вычисляющую свертку справа для элементов списка.\n",
    "def foldr(func, lst, acc):\n",
    "    \"\"\"Вычисляет свертку справа для элементов списка.\"\"\"\n",
    "    if lst is None:\n",
    "        return acc\n",
    "    return func(head(lst), foldr(func, tail(lst), acc))\n",
    " \n",
    " \n",
    "# 2.11. (уровень сложности: средний)\n",
    "# Создайте функцию list_map(func, lst), аналог map, с помощью foldr.\n",
    "def list_map(func, lst):\n",
    "    \"\"\"Применяет функцию func к каждому элементу списка lst.\"\"\"\n",
    "    return foldr(lambda x, acc: pair(func(x), acc), lst, None)\n",
    " \n",
    " \n",
    "# 2.12. (уровень сложности: средний)\n",
    "# Создайте функцию list_filter(pred, lst), аналог filter, с помощью foldr.\n",
    "def list_filter(pred, lst):\n",
    "    \"\"\"Фильтрует элементы списка lst с помощью предиката pred.\"\"\"\n",
    "    return foldr(lambda x, acc: pair(x, acc) if pred(x) else acc, lst, None)\n",
    " \n",
    " \n",
    "# 2.13. (уровень сложности: средний)\n",
    "# Создайте функцию sum_odd_squares для вычисления суммы квадратов нечетных чисел списка с помощью list_sum, list_map и list_filter.\n",
    "def sum_odd_squares(lst):\n",
    "    \"\"\"Вычисляет сумму квадратов нечетных чисел списка lst.\"\"\"\n",
    "    odd_nums = list_filter(lambda x: x % 2 == 1, lst)\n",
    "    odd_squares = list_map(lambda x: x**2, odd_nums)\n",
    "    return list_sum(odd_squares)\n",
    " \n",
    " \n",
    "# 2.14. (уровень сложности: средний)\n",
    "# Создайте функцию list_concat(lst1, lst2) для соединения двух списков.\n",
    "def list_concat(lst1, lst2):\n",
    "    \"\"\"Соединяет два списка lst1 и lst2.\"\"\"\n",
    "    return foldr(pair, lst1, lst2)\n",
    " \n",
    " \n",
    "# 2.15. (уровень сложности: средний)\n",
    "# Создайте функцию list_replace(lst, index, value) для изменения элемента списка по индексу.\n",
    "def list_replace(lst, index, value):\n",
    "    \"\"\"Заменяет элемент списка lst по индексу index на значение value.\"\"\"\n",
    "    if lst is None or index < 0:\n",
    "        return lst\n",
    "    elif index == 0:\n",
    "        return pair(value, tail(lst))\n",
    "    else:\n",
    "        return pair(head(lst), list_replace(tail(lst), index - 1, value))\n",
    " \n",
    " \n",
    "if __name__ == '__main__':\n",
    "    # создание списка\n",
    "    lst = make_list(1, 2, 3, 4, 5)\n",
    "    print(f'Созданный список: {list_to_string(lst)}')  # 1 2 3 4 5\n",
    "    # # получение головы и хвоста\n",
    "    print(f'Голова: {head(lst)} ; Хвост: {list_to_string(tail(lst))}')  # 1 ; 2 3 4 5\n",
    "    # # создание списка чисел от low до high\n",
    "    print(f'Список от low до high: {list_to_string(list_range(6, 10))}')  # 6 7 8 9 10\n",
    "    # # foldl\n",
    "    print(f'Свертка списка: {foldl(lambda acc, x: acc - x, lst, 0)}')  # -15\n",
    "    # # вычисление суммы элементов списка\n",
    "    print(f'Сумма элементов: {list_sum(lst)}')  # 15\n",
    "    # # вычисление факториала\n",
    "    print(f'Факториал 5: {fact(5)}')  # 120\n",
    "    # # преобразование списка в обычный список Питона\n",
    "    print(f'Преобразование в список Python: {list_to_py(lst)}') # [1, 2, 3, 4, 5]\n",
    "    # # разворот списка\n",
    "    print(f'Разворот списка: {list_to_string(list_reverse(lst))}')\n",
    "    # # foldr\n",
    "    print(f'Свертка списка справа: {foldr(lambda acc, x: acc - x, lst, 0)}')  # 3\n",
    "    # # map\n",
    "    print(f'Map списка: {list_to_string(list_map(lambda x: x*x, lst))}')\n",
    "    # # filter\n",
    "    print(f'Фильтрация списка: {list_to_string(list_filter(lambda x: 1 < x < 5, lst))}')\n",
    "    # # sum_odd_squares\n",
    "    print(f'Сумма квадратов нечетных чисел: {sum_odd_squares(lst)}')\n",
    "    # # list_concat\n",
    "    print(f'Конкатинация списков: {list_to_string(list_concat(lst, list_range(6, 10)))}')\n",
    "    # # list_replace\n",
    "    print(f'Изменение элемента по индексу: {list_to_string(list_replace(lst, 2, 10))}')\n",
    " "
   ]
  },
  {
   "cell_type": "code",
   "execution_count": null,
   "id": "a94a1820",
   "metadata": {},
   "outputs": [],
   "source": []
  }
 ],
 "metadata": {
  "kernelspec": {
   "display_name": "Python 3 (ipykernel)",
   "language": "python",
   "name": "python3"
  },
  "language_info": {
   "codemirror_mode": {
    "name": "ipython",
    "version": 3
   },
   "file_extension": ".py",
   "mimetype": "text/x-python",
   "name": "python",
   "nbconvert_exporter": "python",
   "pygments_lexer": "ipython3",
   "version": "3.9.13"
  }
 },
 "nbformat": 4,
 "nbformat_minor": 5
}
