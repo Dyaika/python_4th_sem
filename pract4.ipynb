{
 "cells": [
  {
   "cell_type": "code",
   "execution_count": 3,
   "id": "5dda2f0d",
   "metadata": {},
   "outputs": [
    {
     "name": "stdout",
     "output_type": "stream",
     "text": [
      "id\n",
      "name\n"
     ]
    }
   ],
   "source": [
    "class MyClass:\n",
    "    def __init__(self):\n",
    "        self.id = 1234\n",
    "        self.name = \"Alex\"\n",
    "        self._smthng = \"woa\"\n",
    "\n",
    "obj = MyClass()\n",
    "\n",
    "fields = [attr for attr in dir(obj) if not attr.startswith('_')]\n",
    "\n",
    "for field in fields:\n",
    "    print(field)\n"
   ]
  },
  {
   "cell_type": "code",
   "execution_count": 13,
   "id": "9806a2e3",
   "metadata": {},
   "outputs": [
    {
     "name": "stdout",
     "output_type": "stream",
     "text": [
      "Alex\n",
      "Alex\n"
     ]
    }
   ],
   "source": [
    "class MyClass:\n",
    "    def __init__(self):\n",
    "        self.id = 1234\n",
    "        self.name = \"Alex\"\n",
    "        self._smthng = \"woa\"\n",
    "        \n",
    "    def get_name(self):\n",
    "        return self.name\n",
    "    \n",
    "obj = MyClass()\n",
    "\n",
    "print(obj.get_name())\n",
    "\n",
    "my_get_name = getattr(obj, \"get_name\")\n",
    "print(my_get_name())"
   ]
  },
  {
   "cell_type": "code",
   "execution_count": 14,
   "id": "a805cd88",
   "metadata": {},
   "outputs": [],
   "source": [
    "class A:\n",
    "    pass\n",
    "\n",
    "class B(A):\n",
    "    pass\n",
    "\n",
    "class C(B):\n",
    "    pass\n"
   ]
  },
  {
   "cell_type": "code",
   "execution_count": 16,
   "id": "cc64f140",
   "metadata": {},
   "outputs": [
    {
     "name": "stdout",
     "output_type": "stream",
     "text": [
      "OSError -> Exception -> BaseException -> object\n"
     ]
    }
   ],
   "source": [
    "def get_inheritance(cls):\n",
    "    return ' -> '.join([c.__name__ for c in cls.__mro__])\n",
    "print(get_inheritance(OSError))"
   ]
  },
  {
   "cell_type": "code",
   "execution_count": 11,
   "id": "91da2b43",
   "metadata": {},
   "outputs": [
    {
     "name": "stdout",
     "output_type": "stream",
     "text": [
      "CALL\n",
      "CALL\n",
      "CALL\n",
      "CALL\n",
      "CALL\n",
      "CALL\n",
      "CALL\n",
      "\n"
     ]
    }
   ],
   "source": [
    "class Tag:\n",
    "    def __init__(self, name):\n",
    "        self.name = name\n",
    "        self.children = []\n",
    "\n",
    "    def __enter__(self):\n",
    "        return self\n",
    "\n",
    "    def __call__(self, *args, **kwargs):\n",
    "        for arg in args:\n",
    "            self.children.append(str(arg))\n",
    "        for key, value in kwargs.items():\n",
    "            self.attributes[key] = value\n",
    "        return self\n",
    "\n",
    "    def render(self, depth=0):\n",
    "        indent = '    ' * depth\n",
    "        result = [f'{indent}<{self.name}']\n",
    "        result.append('>\\n')\n",
    "        for child in self.children:\n",
    "            if isinstance(child, Tag):\n",
    "                result.append(child.render(depth + 1))\n",
    "            else:\n",
    "                result.append(f'{indent}    {child}\\n')\n",
    "        result.append(f'{indent}</{self.name}>\\n')\n",
    "        return ''.join(result)\n",
    "\n",
    "\n",
    "class HTML:\n",
    "    def __init__(self):\n",
    "        self.code = []\n",
    "\n",
    "    def __getattr__(self, name):\n",
    "        return Tag(name)\n",
    "\n",
    "    def get_code(self):\n",
    "        return ''.join(self.code)\n",
    "\n",
    "    def __enter__(self):\n",
    "        return self\n",
    "\n",
    "\n",
    "html = HTML()\n",
    "with html.body():\n",
    "    with html.div():\n",
    "        with html.div():\n",
    "            html.p('Первая строка.')\n",
    "            html.p('Вторая строка.')\n",
    "        with html.div():\n",
    "            html.p('Третья строка.')\n",
    "\n",
    "print(html.get_code())\n"
   ]
  },
  {
   "cell_type": "code",
   "execution_count": 17,
   "id": "09da6161",
   "metadata": {},
   "outputs": [],
   "source": [
    "class SVG:\n",
    "    def __init__(self):\n",
    "        self.lines = []\n",
    "        self.circles = []\n",
    "\n",
    "    def line(self, x1, y1, x2, y2, color='black'):\n",
    "        self.lines.append((x1, y1, x2, y2, color))\n",
    "\n",
    "    def circle(self, cx, cy, r, color='black'):\n",
    "        self.circles.append((cx, cy, r, color))\n",
    "\n",
    "    def save(self, filename, width, height):\n",
    "        svg_file = open(filename, 'w')\n",
    "        svg_file.write(f'<svg version=\"1.1\" width=\"{width:.6f}\" height=\"{height:.6f}\" xmlns=\"http://www.w3.org/2000/svg\">\\n')\n",
    "        for x1, y1, x2, y2, color in self.lines:\n",
    "            svg_file.write(f'<line x1=\"{x1:.6f}\" y1=\"{y1:.6f}\" x2=\"{x2:.6f}\" y2=\"{y2:.6f}\" stroke=\"{color}\" />\\n')\n",
    "        for cx, cy, r, color in self.circles:\n",
    "            svg_file.write(f'<circle cx=\"{cx:.6f}\" cy=\"{cy:.6f}\" r=\"{r:.6f}\" fill=\"{color}\" />\\n')\n",
    "        svg_file.write('</svg>')\n",
    "        svg_file.close()\n",
    "\n",
    "svg = SVG()\n",
    "\n",
    "svg.line(10, 10, 60, 10, color='black')\n",
    "svg.line(60, 10, 60, 60, color='black')\n",
    "svg.line(60, 60, 10, 60, color='black')\n",
    "svg.line(10, 60, 10, 10, color='black')\n",
    "\n",
    "svg.circle(10, 10, r=5, color='red')\n",
    "svg.circle(60, 10, r=5, color='green')\n",
    "svg.circle(60, 60, r=5, color='red')\n",
    "svg.circle(10, 60, r=5, color='blue')\n",
    "\n",
    "svg.save('pic.svg', 100, 100)"
   ]
  },
  {
   "cell_type": "code",
   "execution_count": 20,
   "id": "4d2a5611",
   "metadata": {},
   "outputs": [],
   "source": [
    "scale_x = 25\n",
    "scale_y = 50\n",
    "\n",
    "class Tree:\n",
    "    def __init__(self, val, left=None, right=None):\n",
    "        self.val = val\n",
    "        self.left = left\n",
    "        self.right = right\n",
    "        self.x = 0\n",
    "        self.y = 0\n",
    "\n",
    "    def layout(self, x=0, y=0):\n",
    "        self.x = x\n",
    "        self.y = y\n",
    "        if self.left:\n",
    "            self.left.layout(x - scale_x, y + scale_y)\n",
    "        if self.right:\n",
    "            self.right.layout(x + scale_x, y + scale_y)\n",
    "\n",
    "    def draw(self, svg):\n",
    "        if self.left:\n",
    "            svg.line(self.x, self.y, self.left.x, self.left.y, color='black')\n",
    "            self.left.draw(svg)\n",
    "        if self.right:\n",
    "            svg.line(self.x, self.y, self.right.x, self.right.y, color='black')\n",
    "            self.right.draw(svg)\n",
    "        svg.circle(self.x, self.y, r=4, color='black')\n",
    "\n",
    "    def save(self, filename):\n",
    "        self.layout()\n",
    "        svg = SVG()\n",
    "        self.draw(svg)\n",
    "        svg.save(filename, self.x + 20, self.y + 20)\n",
    "\n",
    "tree_2 = Tree(2, Tree(3, Tree(4), Tree(5)), Tree(6, Tree(7)))\n",
    "tree_8 = Tree(8, Tree(9, Tree(10), Tree(11, Tree(12), Tree(13))), Tree(14))\n",
    "tree = Tree(1, tree_2, tree_8)\n",
    "tree.save('tree.svg')\n"
   ]
  },
  {
   "cell_type": "code",
   "execution_count": null,
   "id": "80206777",
   "metadata": {},
   "outputs": [],
   "source": []
  }
 ],
 "metadata": {
  "kernelspec": {
   "display_name": "Python 3 (ipykernel)",
   "language": "python",
   "name": "python3"
  },
  "language_info": {
   "codemirror_mode": {
    "name": "ipython",
    "version": 3
   },
   "file_extension": ".py",
   "mimetype": "text/x-python",
   "name": "python",
   "nbconvert_exporter": "python",
   "pygments_lexer": "ipython3",
   "version": "3.9.13"
  }
 },
 "nbformat": 4,
 "nbformat_minor": 5
}
