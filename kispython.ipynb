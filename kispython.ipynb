{
 "cells": [
  {
   "cell_type": "markdown",
   "id": "84a848d1",
   "metadata": {},
   "source": [
    "# 7"
   ]
  },
  {
   "cell_type": "code",
   "execution_count": 8,
   "id": "44f75329",
   "metadata": {},
   "outputs": [
    {
     "data": {
      "text/plain": [
       "1008474"
      ]
     },
     "execution_count": 8,
     "metadata": {},
     "output_type": "execute_result"
    }
   ],
   "source": [
    "def main(arg):\n",
    "    arg = int(arg, 16)\n",
    "    m5 = int('0b110000000000000000000000', 2)\n",
    "    m4 = int('0b001000000000000000000000', 2)\n",
    "    m3 = int('0b000100000000000000000000', 2)\n",
    "    m2 = int('0b000011111111110000000000', 2)\n",
    "    m1 = int('0b000000000000001111111111', 2)\n",
    "    j5 = (arg & m5) >> 22\n",
    "    j4 = (arg & m4) >> 21\n",
    "    j3 = (arg & m3) >> 20\n",
    "    j2 = (arg & m2) >> 10\n",
    "    j1 = (arg & m1)\n",
    "    res = 0\n",
    "    res = res | (j5 << 22)\n",
    "    res = res | (j3 << 21)\n",
    "    res = res | (j1 << 11)\n",
    "    res = res | (j4 << 10)\n",
    "    res = res | j2\n",
    "    return str(res)\n",
    "    \n",
    "main('0xd69ec')"
   ]
  },
  {
   "cell_type": "markdown",
   "id": "23fc0291",
   "metadata": {},
   "source": [
    "# 8"
   ]
  },
  {
   "cell_type": "code",
   "execution_count": 30,
   "id": "fbee89f8",
   "metadata": {},
   "outputs": [
    {
     "data": {
      "text/plain": [
       "[('rari_575', 'usqu_458'),\n",
       " ('onzave', 'anatri'),\n",
       " ('qurear_32', 'eded'),\n",
       " ('orlaza', 'ceza_40')]"
      ]
     },
     "execution_count": 30,
     "metadata": {},
     "output_type": "execute_result"
    }
   ],
   "source": [
    "def main(arg):\n",
    "    arg = arg.replace('do variable', '')\n",
    "    arg = arg.replace('done,', '')\n",
    "    arg = arg.replace(' ', '')\n",
    "    arg = arg.replace('\\n', '')\n",
    "    arg = arg.replace('|', '')\n",
    "    arr = arg.split(';')\n",
    "    res = []\n",
    "    for s in arr:\n",
    "        row = s.split(\"=:\")\n",
    "        if (len(row) > 1):\n",
    "            res.append((row[1], row[0]))\n",
    "    return res\n",
    "    \n",
    "main('| do variable usqu_458=: rari_575;done,do variable\\nanatri=:onzave;done, do variable eded =:qurear_32; done,do variable\\nceza_40 =: orlaza; done, |')"
   ]
  },
  {
   "cell_type": "code",
   "execution_count": null,
   "id": "b70f5738",
   "metadata": {},
   "outputs": [],
   "source": []
  }
 ],
 "metadata": {
  "kernelspec": {
   "display_name": "Python 3 (ipykernel)",
   "language": "python",
   "name": "python3"
  },
  "language_info": {
   "codemirror_mode": {
    "name": "ipython",
    "version": 3
   },
   "file_extension": ".py",
   "mimetype": "text/x-python",
   "name": "python",
   "nbconvert_exporter": "python",
   "pygments_lexer": "ipython3",
   "version": "3.9.12"
  }
 },
 "nbformat": 4,
 "nbformat_minor": 5
}
