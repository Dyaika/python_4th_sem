{
 "cells": [
  {
   "cell_type": "markdown",
   "id": "84a848d1",
   "metadata": {},
   "source": [
    "# 7"
   ]
  },
  {
   "cell_type": "code",
   "execution_count": 8,
   "id": "44f75329",
   "metadata": {},
   "outputs": [
    {
     "data": {
      "text/plain": [
       "1008474"
      ]
     },
     "execution_count": 8,
     "metadata": {},
     "output_type": "execute_result"
    }
   ],
   "source": [
    "def main(arg):\n",
    "    arg = int(arg, 16)\n",
    "    m5 = int('0b110000000000000000000000', 2)\n",
    "    m4 = int('0b001000000000000000000000', 2)\n",
    "    m3 = int('0b000100000000000000000000', 2)\n",
    "    m2 = int('0b000011111111110000000000', 2)\n",
    "    m1 = int('0b000000000000001111111111', 2)\n",
    "    j5 = (arg & m5) >> 22\n",
    "    j4 = (arg & m4) >> 21\n",
    "    j3 = (arg & m3) >> 20\n",
    "    j2 = (arg & m2) >> 10\n",
    "    j1 = (arg & m1)\n",
    "    res = 0\n",
    "    res = res | (j5 << 22)\n",
    "    res = res | (j3 << 21)\n",
    "    res = res | (j1 << 11)\n",
    "    res = res | (j4 << 10)\n",
    "    res = res | j2\n",
    "    return str(res)\n",
    "    \n",
    "main('0xd69ec')"
   ]
  },
  {
   "cell_type": "markdown",
   "id": "23fc0291",
   "metadata": {},
   "source": [
    "# 8"
   ]
  },
  {
   "cell_type": "code",
   "execution_count": 30,
   "id": "fbee89f8",
   "metadata": {},
   "outputs": [
    {
     "data": {
      "text/plain": [
       "[('rari_575', 'usqu_458'),\n",
       " ('onzave', 'anatri'),\n",
       " ('qurear_32', 'eded'),\n",
       " ('orlaza', 'ceza_40')]"
      ]
     },
     "execution_count": 30,
     "metadata": {},
     "output_type": "execute_result"
    }
   ],
   "source": [
    "def main(arg):\n",
    "    arg = arg.replace('do variable', '')\n",
    "    arg = arg.replace('done,', '')\n",
    "    arg = arg.replace(' ', '')\n",
    "    arg = arg.replace('\\n', '')\n",
    "    arg = arg.replace('|', '')\n",
    "    arr = arg.split(';')\n",
    "    res = []\n",
    "    for s in arr:\n",
    "        row = s.split(\"=:\")\n",
    "        if (len(row) > 1):\n",
    "            res.append((row[1], row[0]))\n",
    "    return res\n",
    "    \n",
    "main('| do variable usqu_458=: rari_575;done,do variable\\nanatri=:onzave;done, do variable eded =:qurear_32; done,do variable\\nceza_40 =: orlaza; done, |')"
   ]
  },
  {
   "cell_type": "markdown",
   "id": "e6bd1288",
   "metadata": {},
   "source": [
    "# 9"
   ]
  },
  {
   "cell_type": "code",
   "execution_count": 46,
   "id": "d6442f61",
   "metadata": {},
   "outputs": [
    {
     "data": {
      "text/plain": [
       "[['0.98', '0.17', '0.35'],\n",
       " ['426-899-4090', '657-868-4108', '796-805-8048'],\n",
       " ['mail.ru', 'gmail.com', 'yandex.ru']]"
      ]
     },
     "execution_count": 46,
     "metadata": {},
     "output_type": "execute_result"
    }
   ],
   "source": [
    "def main(table):\n",
    "    pre_res = []\n",
    "    for i in range(len(table)):\n",
    "        row = table[i]\n",
    "        if row not in table[0:i]:\n",
    "            new_row = []\n",
    "            for j in range(len(row)):\n",
    "                col = row[j]\n",
    "                if col not in row[0:j]:\n",
    "                    new_row.append(col)\n",
    "                    last_col = col\n",
    "            pre_res.append(new_row)\n",
    "    res = [[j for j in range(len(pre_res))] for i in range(len(pre_res[0]))]\n",
    "    for i in range(len(pre_res)):\n",
    "        res[0][i] = f\"{round(float(pre_res[i][0]), 2):.{2}f}\"\n",
    "        res[1][i] = pre_res[i][1].replace('+7 ', '').replace(' ', '-')\n",
    "        res[2][i] = pre_res[i][2][pre_res[i][2].find(']')+1:]\n",
    "    return res\n",
    "    \n",
    "    \n",
    "table = [['0.654', '+7 451 307-5040', '+7 451 307-5040', 'zedatuk39[at]mail.ru'],\n",
    "         ['0.654', '+7 451 307-5040', '+7 451 307-5040', 'zedatuk39[at]mail.ru'],\n",
    "         ['0.654', '+7 451 307-5040', '+7 451 307-5040', 'zedatuk39[at]mail.ru'],\n",
    "         ['0.238', '+7 221 325-4592', '+7 221 325-4592', 'zahar58[at]mail.ru'],\n",
    "         ['0.815', '+7 633 558-2689', '+7 633 558-2689', 'pavel50[at]yandex.ru'],\n",
    "         ['0.954', '+7 545 105-6835', '+7 545 105-6835', 'timur34[at]mail.ru']]\n",
    "\n",
    "table2 = [['0.985', '+7 426 899-4090', '+7 426 899-4090', 'artemij76[at]mail.ru'], \n",
    "          ['0.168', '+7 657 868-4108', '+7 657 868-4108', 'buridi80[at]gmail.com'], \n",
    "          ['0.355', '+7 796 805-8048', '+7 796 805-8048', 'konstantin50[at]yandex.ru'], \n",
    "          ['0.168', '+7 657 868-4108', '+7 657 868-4108', 'buridi80[at]gmail.com'], \n",
    "          ['0.168', '+7 657 868-4108', '+7 657 868-4108', 'buridi80[at]gmail.com']]\n",
    "main(table2)"
   ]
  },
  {
   "cell_type": "code",
   "execution_count": null,
   "id": "2ea829b6",
   "metadata": {},
   "outputs": [],
   "source": [
    "class Point:\n",
    "    def __init__(self):\n",
    "        self.cur = 'A'\n",
    "        \n",
    "    def crack(self):\n",
    "        mapa = {'A':('B', 0),\n",
    "               'B': ('B', -1),\n",
    "               'C': ('C', -1),\n",
    "               'D': ('B', 5 ),\n",
    "               'E': (),\n",
    "               'F': ()}"
   ]
  },
  {
   "cell_type": "code",
   "execution_count": null,
   "id": "634e9922",
   "metadata": {},
   "outputs": [],
   "source": []
  }
 ],
 "metadata": {
  "kernelspec": {
   "display_name": "Python 3 (ipykernel)",
   "language": "python",
   "name": "python3"
  },
  "language_info": {
   "codemirror_mode": {
    "name": "ipython",
    "version": 3
   },
   "file_extension": ".py",
   "mimetype": "text/x-python",
   "name": "python",
   "nbconvert_exporter": "python",
   "pygments_lexer": "ipython3",
   "version": "3.9.13"
  }
 },
 "nbformat": 4,
 "nbformat_minor": 5
}
