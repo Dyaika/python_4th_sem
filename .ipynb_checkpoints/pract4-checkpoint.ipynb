{
 "cells": [
  {
   "cell_type": "code",
   "execution_count": 3,
   "id": "5dda2f0d",
   "metadata": {},
   "outputs": [
    {
     "name": "stdout",
     "output_type": "stream",
     "text": [
      "id\n",
      "name\n"
     ]
    }
   ],
   "source": [
    "class MyClass:\n",
    "    def __init__(self):\n",
    "        self.id = 1234\n",
    "        self.name = \"Alex\"\n",
    "        self._smthng = \"woa\"\n",
    "\n",
    "obj = MyClass()\n",
    "\n",
    "fields = [attr for attr in dir(obj) if not attr.startswith('_')]\n",
    "\n",
    "for field in fields:\n",
    "    print(field)\n"
   ]
  },
  {
   "cell_type": "code",
   "execution_count": 13,
   "id": "9806a2e3",
   "metadata": {},
   "outputs": [
    {
     "name": "stdout",
     "output_type": "stream",
     "text": [
      "Alex\n",
      "Alex\n"
     ]
    }
   ],
   "source": [
    "class MyClass:\n",
    "    def __init__(self):\n",
    "        self.id = 1234\n",
    "        self.name = \"Alex\"\n",
    "        self._smthng = \"woa\"\n",
    "        \n",
    "    def get_name(self):\n",
    "        return self.name\n",
    "    \n",
    "obj = MyClass()\n",
    "\n",
    "print(obj.get_name())\n",
    "\n",
    "my_get_name = getattr(obj, \"get_name\")\n",
    "print(my_get_name())"
   ]
  },
  {
   "cell_type": "code",
   "execution_count": 14,
   "id": "a805cd88",
   "metadata": {},
   "outputs": [],
   "source": [
    "class A:\n",
    "    pass\n",
    "\n",
    "class B(A):\n",
    "    pass\n",
    "\n",
    "class C(B):\n",
    "    pass\n"
   ]
  },
  {
   "cell_type": "code",
   "execution_count": 16,
   "id": "cc64f140",
   "metadata": {},
   "outputs": [
    {
     "name": "stdout",
     "output_type": "stream",
     "text": [
      "OSError -> Exception -> BaseException -> object\n"
     ]
    }
   ],
   "source": [
    "def get_inheritance(cls):\n",
    "    return ' -> '.join([c.__name__ for c in cls.__mro__])\n",
    "print(get_inheritance(OSError))"
   ]
  },
  {
   "cell_type": "code",
   "execution_count": null,
   "id": "91da2b43",
   "metadata": {},
   "outputs": [],
   "source": [
    "\n"
   ]
  },
  {
   "cell_type": "code",
   "execution_count": 2,
   "id": "09da6161",
   "metadata": {},
   "outputs": [],
   "source": [
    "class SVG:\n",
    "    def __init__(self):\n",
    "        self.lines = []\n",
    "        self.circles = []\n",
    "\n",
    "    def line(self, x1, y1, x2, y2, color='black'):\n",
    "        self.lines.append((x1, y1, x2, y2, color))\n",
    "\n",
    "    def circle(self, cx, cy, r, color='black'):\n",
    "        self.circles.append((cx, cy, r, color))\n",
    "\n",
    "    def save(self, filename, width, height):\n",
    "        svg_file = open(filename, 'w')\n",
    "        svg_file.write(f'<svg version=\"1.1\" width=\"{width:.6f}\" height=\"{height:.6f}\" xmlns=\"http://www.w3.org/2000/svg\">\\n')\n",
    "        for x1, y1, x2, y2, color in self.lines:\n",
    "            svg_file.write(f'<line x1=\"{x1:.6f}\" y1=\"{y1:.6f}\" x2=\"{x2:.6f}\" y2=\"{y2:.6f}\" stroke=\"{color}\" />\\n')\n",
    "        for cx, cy, r, color in self.circles:\n",
    "            svg_file.write(f'<circle cx=\"{cx:.6f}\" cy=\"{cy:.6f}\" r=\"{r:.6f}\" fill=\"{color}\" />\\n')\n",
    "        svg_file.write('</svg>')\n",
    "        svg_file.close()\n",
    "\n",
    "svg = SVG()\n",
    "\n",
    "svg.line(10, 10, 60, 10, color='black')\n",
    "svg.line(60, 10, 60, 60, color='black')\n",
    "svg.line(60, 60, 10, 60, color='black')\n",
    "svg.line(10, 60, 10, 10, color='black')\n",
    "\n",
    "svg.circle(10, 10, r=5, color='red')\n",
    "svg.circle(60, 10, r=5, color='green')\n",
    "svg.circle(60, 60, r=5, color='red')\n",
    "svg.circle(10, 60, r=5, color='blue')\n",
    "\n",
    "svg.save('pic.svg', 100, 100)"
   ]
  },
  {
   "cell_type": "code",
   "execution_count": 21,
   "id": "80206777",
   "metadata": {},
   "outputs": [],
   "source": [
    "class Num:\n",
    "    def __init__(self, value):\n",
    "        self.value = value\n",
    "    \n",
    "    def get_content(self):\n",
    "        return self.value\n",
    "    \n",
    "class Add:\n",
    "    def __init__(self, left, right):\n",
    "        self.left = left\n",
    "        self.right = right\n",
    "    \n",
    "    def get_content(self):\n",
    "        return \"+\"\n",
    "    \n",
    "    \n",
    "class Mul:\n",
    "    def __init__(self, left, right):\n",
    "        self.left = left\n",
    "        self.right = right\n",
    "    \n",
    "    def get_content(self):\n",
    "        return \"*\""
   ]
  },
  {
   "cell_type": "code",
   "execution_count": 23,
   "id": "dd87ec18",
   "metadata": {},
   "outputs": [
    {
     "name": "stdout",
     "output_type": "stream",
     "text": [
      "(7 + (3 * 2))\n"
     ]
    }
   ],
   "source": [
    "class PrintVisitor:\n",
    "    def visit_Num(self, node):\n",
    "        return node.get_content()\n",
    "    \n",
    "    def visit_Add(self, node):\n",
    "        return self.visit_Operation(node)\n",
    "    \n",
    "    def visit_Mul(self, node):\n",
    "        return self.visit_Operation(node)\n",
    "    \n",
    "    def visit_Operation(self, node):\n",
    "        return f\"({self.visit(node.left)} \"+ \\\n",
    "            f\"{node.get_content()} \" + \\\n",
    "            f\"{self.visit(node.right)})\"\n",
    "    \n",
    "    def visit(self, node):\n",
    "        method = f\"visit_{type(node).__name__}\"\n",
    "        method = getattr(self, method)\n",
    "        return(method(node))\n",
    "    \n",
    "    \n",
    "ast = Add(Num(7), Mul(Num(3), Num(2)))    \n",
    "pv = PrintVisitor()\n",
    "print(pv.visit(ast))"
   ]
  },
  {
   "cell_type": "code",
   "execution_count": 24,
   "id": "87eaf6ec",
   "metadata": {},
   "outputs": [
    {
     "name": "stdout",
     "output_type": "stream",
     "text": [
      "13\n"
     ]
    }
   ],
   "source": [
    "class CalcVisitor:\n",
    "    def visit_Num(self, node):\n",
    "        return node.get_content()\n",
    "    \n",
    "    def visit_Add(self, node):\n",
    "        return self.visit(node.left) + self.visit(node.right)\n",
    "    \n",
    "    def visit_Mul(self, node):\n",
    "        return self.visit(node.left) * self.visit(node.right)\n",
    "    \n",
    "    def visit(self, node):\n",
    "        method = f\"visit_{type(node).__name__}\"\n",
    "        method = getattr(self, method)\n",
    "        return(method(node))\n",
    "    \n",
    "    \n",
    "ast = Add(Num(7), Mul(Num(3), Num(2)))    \n",
    "cv = CalcVisitor()\n",
    "print(cv.visit(ast))"
   ]
  },
  {
   "cell_type": "code",
   "execution_count": 30,
   "id": "29e5c04e",
   "metadata": {},
   "outputs": [
    {
     "name": "stdout",
     "output_type": "stream",
     "text": [
      "PUSH 7\n",
      "PUSH 3\n",
      "PUSH 2\n",
      "MUL\n",
      "ADD\n",
      "\n"
     ]
    }
   ],
   "source": [
    "class StackVisitor:\n",
    "    def visit_Num(self, node):\n",
    "        return f\"PUSH {node.get_content()}\\n\"\n",
    "    \n",
    "    def visit_Add(self, node):\n",
    "        return f\"{self.visit(node.left)}\"+ \\\n",
    "            f\"{self.visit(node.right)}ADD\\n\"\n",
    "    \n",
    "    def visit_Mul(self, node):\n",
    "        return f\"{self.visit(node.left)}\"+ \\\n",
    "            f\"{self.visit(node.right)}MUL\\n\"\n",
    "    \n",
    "    def visit(self, node):\n",
    "        method = f\"visit_{type(node).__name__}\"\n",
    "        method = getattr(self, method)\n",
    "        return(method(node))\n",
    "    \n",
    "    \n",
    "ast = Add(Num(7), Mul(Num(3), Num(2)))    \n",
    "sv = StackVisitor()\n",
    "print(sv.visit(ast))"
   ]
  },
  {
   "cell_type": "code",
   "execution_count": 17,
   "id": "4d2a5611",
   "metadata": {},
   "outputs": [],
   "source": [
    "#5.2\n",
    "scale_x = 25\n",
    "scale_y = 50\n",
    "\n",
    "class Tree:\n",
    "    def __init__(self, val, left=None, right=None):\n",
    "        self.val = val\n",
    "        self.left = left\n",
    "        self.right = right\n",
    "        self.x = 0\n",
    "        self.y = 0\n",
    "    \n",
    "    def getWH(self):\n",
    "        (w,h) = (4+scale_x, 4+scale_x)\n",
    "        if self.left:\n",
    "            (w1,h1) = self.left.getWH()\n",
    "            (w,h) = (w+w1, h+h1)\n",
    "        if self.right:\n",
    "            (w1,h1) = self.right.getWH()\n",
    "            (w,h) = (w+w1, h+h1)\n",
    "        return (w,h)\n",
    "            \n",
    "\n",
    "    def layout(self, x=50, y=2, level=1):\n",
    "        self.x = x\n",
    "        self.y = y\n",
    "        if self.left:\n",
    "            self.left.layout(x - scale_x/level, y + scale_y, level+1)\n",
    "        if self.right:\n",
    "            self.right.layout(x + scale_x/level, y + scale_y, level+1)\n",
    "\n",
    "    def draw(self, svg):\n",
    "        if self.left:\n",
    "            svg.line(self.x, self.y, self.left.x, self.left.y, color='black')\n",
    "            self.left.draw(svg)\n",
    "        if self.right:\n",
    "            svg.line(self.x, self.y, self.right.x, self.right.y, color='black')\n",
    "            self.right.draw(svg)\n",
    "        svg.circle(self.x, self.y, r=4, color='black')\n",
    "\n",
    "    def save(self, filename):\n",
    "        self.layout()\n",
    "        svg = SVG()\n",
    "        self.draw(svg)\n",
    "        (w,h) = self.getWH()\n",
    "        svg.save(filename, w, h)\n",
    "\n",
    "tree_2 = Tree(2, Tree(3, Tree(4), Tree(5)), Tree(6, Tree(7)))\n",
    "tree_8 = Tree(8, Tree(9, Tree(10), Tree(11, Tree(12), Tree(13))), Tree(14))\n",
    "tree = Tree(1, tree_2, tree_8)\n",
    "tree.save('tree.svg')\n"
   ]
  },
  {
   "cell_type": "code",
   "execution_count": 26,
   "id": "314915fa",
   "metadata": {},
   "outputs": [
    {
     "name": "stdout",
     "output_type": "stream",
     "text": [
      "<body><div><div><p>Первая строка.<p>Вторая строка.<div><p>Третья строка.</p></div></p></p></div></div></body>\n"
     ]
    }
   ],
   "source": [
    "#4.1\n",
    "class Tag:\n",
    "    def __init__(self, name):\n",
    "        self.name = name\n",
    "        self.attributes = []\n",
    "        self.children = []\n",
    "\n",
    "    def __enter__(self):\n",
    "        return self\n",
    "\n",
    "    def __exit__(self, type, value, traceback):\n",
    "        pass\n",
    "\n",
    "    def __call__(self, *args, **kwargs):\n",
    "        if args:\n",
    "            text = ' '.join(str(arg) for arg in args)\n",
    "            self.children.append(text)\n",
    "        if kwargs:\n",
    "            for key, value in kwargs.items():\n",
    "                attr = f'{key}=\"{value}\"'\n",
    "                self.attributes.append(attr)\n",
    "\n",
    "        return self\n",
    "\n",
    "    def __str__(self):\n",
    "        attrs = ' '.join(self.attributes)\n",
    "        if attrs:\n",
    "            attrs = f' {attrs}'\n",
    "        children = ''.join(str(child) for child in self.children)\n",
    "        return f'<{self.name}{attrs}>{children}</{self.name}>'\n",
    "\n",
    "\n",
    "class HTML:\n",
    "    def __init__(self):\n",
    "        self.root = None\n",
    "        self.current = None\n",
    "\n",
    "    def __getattr__(self, name):\n",
    "        def tag(*args, **kwargs):\n",
    "            new_tag = Tag(name)\n",
    "            if self.root is None:\n",
    "                self.root = new_tag\n",
    "            if self.current is not None:\n",
    "                self.current.children.append(new_tag)\n",
    "            new_tag(*args, **kwargs)\n",
    "            self.current = new_tag\n",
    "            return new_tag\n",
    "        return tag\n",
    "\n",
    "    def __enter__(self):\n",
    "        return self.root\n",
    "\n",
    "    def __exit__(self, type, value, traceback):\n",
    "        pass\n",
    "\n",
    "    def get_code(self):\n",
    "        return str(self.root)\n",
    "\n",
    "\n",
    "\n",
    "html = HTML()\n",
    "with html:\n",
    "    with html.body():\n",
    "        with html.div():\n",
    "            with html.div():\n",
    "                html.p('Первая строка.')\n",
    "                html.p('Вторая строка.')\n",
    "            with html.div():\n",
    "                html.p('Третья строка.')\n",
    "\n",
    "print(html.get_code())\n"
   ]
  },
  {
   "cell_type": "code",
   "execution_count": null,
   "id": "8055de88",
   "metadata": {},
   "outputs": [],
   "source": []
  }
 ],
 "metadata": {
  "kernelspec": {
   "display_name": "Python 3 (ipykernel)",
   "language": "python",
   "name": "python3"
  },
  "language_info": {
   "codemirror_mode": {
    "name": "ipython",
    "version": 3
   },
   "file_extension": ".py",
   "mimetype": "text/x-python",
   "name": "python",
   "nbconvert_exporter": "python",
   "pygments_lexer": "ipython3",
   "version": "3.9.13"
  }
 },
 "nbformat": 4,
 "nbformat_minor": 5
}
