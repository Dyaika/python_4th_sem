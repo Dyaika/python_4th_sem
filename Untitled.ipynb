{
 "cells": [
  {
   "cell_type": "markdown",
   "id": "d70f1d39",
   "metadata": {},
   "source": [
    "# 1"
   ]
  },
  {
   "cell_type": "code",
   "execution_count": 16,
   "id": "32543feb",
   "metadata": {},
   "outputs": [
    {
     "name": "stdout",
     "output_type": "stream",
     "text": [
      "Hello, world!\n"
     ]
    }
   ],
   "source": [
    "print ('Hello, world!')\n",
    "x=5+2\n",
    "my_list = [1,2]\n",
    "\n",
    "\n",
    "def f1(arg1 ='value'):\n",
    "    pass\n",
    "\n",
    "\n",
    "def foo():\n",
    "    pass\n",
    "\n",
    "if x == 6: x += 1\n",
    "x = 5; y = 10\n",
    "a = x == None\n",
    "a = x == True\n"
   ]
  },
  {
   "cell_type": "markdown",
   "id": "65efcf89",
   "metadata": {},
   "source": [
    "#  2.1"
   ]
  },
  {
   "cell_type": "code",
   "execution_count": 17,
   "id": "de3c048d",
   "metadata": {},
   "outputs": [
    {
     "data": {
      "text/plain": [
       "[15]"
      ]
     },
     "execution_count": 17,
     "metadata": {},
     "output_type": "execute_result"
    }
   ],
   "source": [
    "[0xfor _ in 'abc']"
   ]
  },
  {
   "cell_type": "markdown",
   "id": "00fa4765",
   "metadata": {},
   "source": [
    "# 2.2"
   ]
  },
  {
   "cell_type": "code",
   "execution_count": 18,
   "id": "55ba2072",
   "metadata": {},
   "outputs": [],
   "source": [
    "def f(*, x, y):\n",
    "    pass\n",
    "f(y=1, x=2)"
   ]
  },
  {
   "cell_type": "markdown",
   "id": "6d94da1b",
   "metadata": {},
   "source": [
    "# 2.3"
   ]
  },
  {
   "cell_type": "code",
   "execution_count": 24,
   "id": "b5573aff",
   "metadata": {},
   "outputs": [
    {
     "name": "stdout",
     "output_type": "stream",
     "text": [
      "True False\n"
     ]
    }
   ],
   "source": [
    "a = 1\n",
    "b = 1\n",
    "c = 300000 # проверено в Python 3.11\n",
    "d = 300000\n",
    "print(a is b, c is d)"
   ]
  },
  {
   "cell_type": "code",
   "execution_count": 25,
   "id": "9f3c6ac3",
   "metadata": {},
   "outputs": [
    {
     "name": "stdout",
     "output_type": "stream",
     "text": [
      "True True False\n"
     ]
    }
   ],
   "source": [
    "a, b = 'py', 'py'\n",
    "c = ''.join(['p', 'y'])\n",
    "print(a is b, a == c, a is c)"
   ]
  },
  {
   "cell_type": "markdown",
   "id": "db30f881",
   "metadata": {},
   "source": [
    "# 2.4"
   ]
  },
  {
   "cell_type": "code",
   "execution_count": 28,
   "id": "9fc4b9d6",
   "metadata": {},
   "outputs": [
    {
     "name": "stdout",
     "output_type": "stream",
     "text": [
      "['m', 'u', 'c', 'h', ' ', 'c', 'o', 'd', 'e', ' ', 'w', 'o', 'w']\n"
     ]
    }
   ],
   "source": [
    "i = 0\n",
    "['much','code','wow'][i] # 24 символа\n",
    "('much','code','wow')[i]\n",
    "'much code wow'.split()"
   ]
  },
  {
   "cell_type": "markdown",
   "id": "fe8566c5",
   "metadata": {},
   "source": [
    "# 3.1"
   ]
  },
  {
   "cell_type": "code",
   "execution_count": 33,
   "id": "5207ab8b",
   "metadata": {},
   "outputs": [
    {
     "name": "stdout",
     "output_type": "stream",
     "text": [
      "[1, 2, 3, 4, 4]\n"
     ]
    }
   ],
   "source": [
    "s = ['1', '2', '3', '4', '4']\n",
    "s = list(map(int, s))\n",
    "print(s)"
   ]
  },
  {
   "cell_type": "markdown",
   "id": "ca6bb9e3",
   "metadata": {},
   "source": [
    "# 3.2"
   ]
  },
  {
   "cell_type": "code",
   "execution_count": 35,
   "id": "d3794530",
   "metadata": {},
   "outputs": [
    {
     "name": "stdout",
     "output_type": "stream",
     "text": [
      "4\n"
     ]
    }
   ],
   "source": [
    "uniq = len(set(s))\n",
    "print(uniq)"
   ]
  },
  {
   "cell_type": "markdown",
   "id": "d936bc11",
   "metadata": {},
   "source": [
    "# 3.3"
   ]
  },
  {
   "cell_type": "code",
   "execution_count": 36,
   "id": "d048b861",
   "metadata": {},
   "outputs": [
    {
     "name": "stdout",
     "output_type": "stream",
     "text": [
      "[4, 4, 3, 2, 1]\n"
     ]
    }
   ],
   "source": [
    "s = s[::-1]\n",
    "print(s)"
   ]
  },
  {
   "cell_type": "markdown",
   "id": "c1ba226c",
   "metadata": {},
   "source": [
    "# 3.4"
   ]
  },
  {
   "cell_type": "code",
   "execution_count": 38,
   "id": "fb4a5dd0",
   "metadata": {},
   "outputs": [
    {
     "name": "stdout",
     "output_type": "stream",
     "text": [
      "[0, 1]\n"
     ]
    }
   ],
   "source": [
    "indexes = [i for i in range(len(s)) if s[i] == 4]\n",
    "print(indexes)"
   ]
  },
  {
   "cell_type": "markdown",
   "id": "2b318e94",
   "metadata": {},
   "source": [
    "# 3.5"
   ]
  },
  {
   "cell_type": "code",
   "execution_count": 39,
   "id": "7899b26b",
   "metadata": {},
   "outputs": [
    {
     "name": "stdout",
     "output_type": "stream",
     "text": [
      "8\n"
     ]
    }
   ],
   "source": [
    "sums = sum(s[i] for i in range(0, len(s), 2))\n",
    "print(sums)"
   ]
  },
  {
   "cell_type": "markdown",
   "id": "ab67fb2c",
   "metadata": {},
   "source": [
    "# 3.6"
   ]
  },
  {
   "cell_type": "code",
   "execution_count": 41,
   "id": "f23dd9ef",
   "metadata": {},
   "outputs": [
    {
     "name": "stdout",
     "output_type": "stream",
     "text": [
      "bbbbb\n"
     ]
    }
   ],
   "source": [
    "s = ['a', 'aa', 'a', 'bbbbb', 'aaa']\n",
    "ans = max(s)\n",
    "print(ans)"
   ]
  },
  {
   "cell_type": "markdown",
   "id": "bcfdd3ff",
   "metadata": {},
   "source": [
    "# 3.7"
   ]
  },
  {
   "cell_type": "code",
   "execution_count": 53,
   "id": "5d688cd1",
   "metadata": {},
   "outputs": [
    {
     "name": "stdout",
     "output_type": "stream",
     "text": [
      "True\n"
     ]
    }
   ],
   "source": [
    "n = 30\n",
    "ans = n % sum(list(map(int, list(str(n))))) == 0\n",
    "print(ans)"
   ]
  },
  {
   "cell_type": "code",
   "execution_count": 69,
   "id": "be6dd36c",
   "metadata": {},
   "outputs": [
    {
     "name": "stdout",
     "output_type": "stream",
     "text": [
      "jWPiyjQfITwv\n"
     ]
    }
   ],
   "source": [
    "import random\n",
    "import string\n",
    "n = 12\n",
    "ans = ''.join(random.choices(string.ascii_letters, k=n))\n",
    "print(ans)"
   ]
  },
  {
   "cell_type": "code",
   "execution_count": null,
   "id": "34d2200b",
   "metadata": {},
   "outputs": [],
   "source": []
  }
 ],
 "metadata": {
  "kernelspec": {
   "display_name": "Python 3 (ipykernel)",
   "language": "python",
   "name": "python3"
  },
  "language_info": {
   "codemirror_mode": {
    "name": "ipython",
    "version": 3
   },
   "file_extension": ".py",
   "mimetype": "text/x-python",
   "name": "python",
   "nbconvert_exporter": "python",
   "pygments_lexer": "ipython3",
   "version": "3.9.13"
  }
 },
 "nbformat": 4,
 "nbformat_minor": 5
}
